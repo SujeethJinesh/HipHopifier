{
 "cells": [
  {
   "cell_type": "code",
   "execution_count": 2,
   "metadata": {},
   "outputs": [
    {
     "name": "stderr",
     "output_type": "stream",
     "text": [
      "Using TensorFlow backend.\n"
     ]
    }
   ],
   "source": [
    "# feature extractoring and preprocessing data\n",
    "import librosa\n",
    "import pandas as pd\n",
    "import numpy as np\n",
    "import matplotlib.pyplot as plt\n",
    "%matplotlib inline\n",
    "import os\n",
    "from PIL import Image\n",
    "import pathlib\n",
    "import csv\n",
    "\n",
    "# Preprocessing\n",
    "from sklearn.model_selection import train_test_split\n",
    "from sklearn.preprocessing import LabelEncoder, StandardScaler\n",
    "\n",
    "#Keras\n",
    "import keras\n",
    "\n",
    "import warnings\n",
    "warnings.filterwarnings('ignore')"
   ]
  },
  {
   "cell_type": "code",
   "execution_count": 5,
   "metadata": {},
   "outputs": [
    {
     "data": {
      "text/plain": [
       "<Figure size 720x720 with 0 Axes>"
      ]
     },
     "metadata": {},
     "output_type": "display_data"
    }
   ],
   "source": [
    "cmap = plt.get_cmap('inferno')\n",
    "\n",
    "plt.figure(figsize=(10,10))\n",
    "genres = 'blues classical country disco hiphop jazz metal pop reggae rock'.split()\n",
    "genres = 'classical jazz metal pop rock'.split()\n",
    "for g in genres:\n",
    "    pathlib.Path(f'dataset/img_data/{g}').mkdir(parents=True, exist_ok=True)     \n",
    "    for filename in os.listdir(f'./dataset/genres/{g}'):\n",
    "        songname = f'./dataset/genres/{g}/{filename}'\n",
    "        y, sr = librosa.load(songname, mono=True, duration=5)\n",
    "        plt.specgram(y, NFFT=2048, Fs=2, Fc=0, noverlap=128, cmap=cmap, sides='default', mode='default', scale='dB');\n",
    "        plt.axis('off');\n",
    "        plt.savefig(f'dataset/img_data/{g}/{filename[:-3].replace(\".\", \"\")}.png')\n",
    "        plt.clf()\n",
    " "
   ]
  },
  {
   "cell_type": "markdown",
   "metadata": {},
   "source": [
    "Extracting features"
   ]
  },
  {
   "cell_type": "code",
   "execution_count": 21,
   "metadata": {},
   "outputs": [],
   "source": [
    "header = 'filename chroma_stft rmse spectral_centroid spectral_bandwidth rolloff zero_crossing_rate'\n",
    "#for i in range(1, 21):\n",
    "for i in range(1, 20):\n",
    "    header += f' mfcc{i}'\n",
    "header += ' label'\n",
    "header = header.split()"
   ]
  },
  {
   "cell_type": "code",
   "execution_count": 22,
   "metadata": {},
   "outputs": [],
   "source": [
    "file = open('./dataset/data.csv', 'w', newline='')\n",
    "with file:\n",
    "    writer = csv.writer(file)\n",
    "    writer.writerow(header)\n",
    "for g in genres:\n",
    "    for filename in os.listdir(f'./dataset/genres/{g}'):\n",
    "        songname = f'./dataset/genres/{g}/{filename}'\n",
    "        y, sr = librosa.load(songname, mono=True, duration=30)\n",
    "        chroma_stft = librosa.feature.chroma_stft(y=y, sr=sr)\n",
    "        spec_cent = librosa.feature.spectral_centroid(y=y, sr=sr)\n",
    "        spec_bw = librosa.feature.spectral_bandwidth(y=y, sr=sr)\n",
    "        rolloff = librosa.feature.spectral_rolloff(y=y, sr=sr)\n",
    "        zcr = librosa.feature.zero_crossing_rate(y)\n",
    "        mfcc = librosa.feature.mfcc(y=y, sr=sr)\n",
    "        to_append = f'{filename} {np.mean(chroma_stft)} {np.mean(spec_cent)} {np.mean(spec_bw)} {np.mean(rolloff)} {np.mean(zcr)}'    \n",
    "        for e in mfcc:\n",
    "            to_append += f' {np.mean(e)}'\n",
    "        to_append += f' {g}'\n",
    "        file = open('./dataset/data.csv', 'a', newline='')\n",
    "        with file:\n",
    "            writer = csv.writer(file)\n",
    "            writer.writerow(to_append.split())"
   ]
  },
  {
   "cell_type": "markdown",
   "metadata": {},
   "source": [
    "Analyzing in pandas"
   ]
  },
  {
   "cell_type": "code",
   "execution_count": 23,
   "metadata": {},
   "outputs": [
    {
     "data": {
      "text/html": [
       "<div>\n",
       "<style scoped>\n",
       "    .dataframe tbody tr th:only-of-type {\n",
       "        vertical-align: middle;\n",
       "    }\n",
       "\n",
       "    .dataframe tbody tr th {\n",
       "        vertical-align: top;\n",
       "    }\n",
       "\n",
       "    .dataframe thead th {\n",
       "        text-align: right;\n",
       "    }\n",
       "</style>\n",
       "<table border=\"1\" class=\"dataframe\">\n",
       "  <thead>\n",
       "    <tr style=\"text-align: right;\">\n",
       "      <th></th>\n",
       "      <th>filename</th>\n",
       "      <th>chroma_stft</th>\n",
       "      <th>rmse</th>\n",
       "      <th>spectral_centroid</th>\n",
       "      <th>spectral_bandwidth</th>\n",
       "      <th>rolloff</th>\n",
       "      <th>zero_crossing_rate</th>\n",
       "      <th>mfcc1</th>\n",
       "      <th>mfcc2</th>\n",
       "      <th>mfcc3</th>\n",
       "      <th>...</th>\n",
       "      <th>mfcc11</th>\n",
       "      <th>mfcc12</th>\n",
       "      <th>mfcc13</th>\n",
       "      <th>mfcc14</th>\n",
       "      <th>mfcc15</th>\n",
       "      <th>mfcc16</th>\n",
       "      <th>mfcc17</th>\n",
       "      <th>mfcc18</th>\n",
       "      <th>mfcc19</th>\n",
       "      <th>label</th>\n",
       "    </tr>\n",
       "  </thead>\n",
       "  <tbody>\n",
       "    <tr>\n",
       "      <th>0</th>\n",
       "      <td>classical.00004.au</td>\n",
       "      <td>0.223171</td>\n",
       "      <td>1705.704611</td>\n",
       "      <td>1646.292971</td>\n",
       "      <td>3175.739130</td>\n",
       "      <td>0.112867</td>\n",
       "      <td>-259.909976</td>\n",
       "      <td>118.939289</td>\n",
       "      <td>-35.611851</td>\n",
       "      <td>31.977636</td>\n",
       "      <td>...</td>\n",
       "      <td>-1.196833</td>\n",
       "      <td>-6.347265</td>\n",
       "      <td>2.761452</td>\n",
       "      <td>-2.592574</td>\n",
       "      <td>4.384807</td>\n",
       "      <td>-4.136895</td>\n",
       "      <td>-4.779474</td>\n",
       "      <td>-4.772360</td>\n",
       "      <td>-4.608322</td>\n",
       "      <td>classical</td>\n",
       "    </tr>\n",
       "    <tr>\n",
       "      <th>1</th>\n",
       "      <td>classical.00001.au</td>\n",
       "      <td>0.215064</td>\n",
       "      <td>1360.408354</td>\n",
       "      <td>1441.143831</td>\n",
       "      <td>2387.218898</td>\n",
       "      <td>0.087772</td>\n",
       "      <td>-324.058769</td>\n",
       "      <td>133.610044</td>\n",
       "      <td>-25.031100</td>\n",
       "      <td>24.567555</td>\n",
       "      <td>...</td>\n",
       "      <td>3.522400</td>\n",
       "      <td>5.041735</td>\n",
       "      <td>1.361834</td>\n",
       "      <td>3.003346</td>\n",
       "      <td>-3.124863</td>\n",
       "      <td>-4.291534</td>\n",
       "      <td>0.591218</td>\n",
       "      <td>2.871973</td>\n",
       "      <td>0.366271</td>\n",
       "      <td>classical</td>\n",
       "    </tr>\n",
       "    <tr>\n",
       "      <th>2</th>\n",
       "      <td>classical.00002.au</td>\n",
       "      <td>0.277865</td>\n",
       "      <td>1490.034810</td>\n",
       "      <td>1599.959102</td>\n",
       "      <td>2784.916493</td>\n",
       "      <td>0.090050</td>\n",
       "      <td>-235.255816</td>\n",
       "      <td>141.128195</td>\n",
       "      <td>-34.666853</td>\n",
       "      <td>30.979235</td>\n",
       "      <td>...</td>\n",
       "      <td>8.909783</td>\n",
       "      <td>-1.433871</td>\n",
       "      <td>4.281025</td>\n",
       "      <td>1.482141</td>\n",
       "      <td>3.187973</td>\n",
       "      <td>-1.309518</td>\n",
       "      <td>2.929818</td>\n",
       "      <td>-1.661003</td>\n",
       "      <td>-2.896666</td>\n",
       "      <td>classical</td>\n",
       "    </tr>\n",
       "    <tr>\n",
       "      <th>3</th>\n",
       "      <td>classical.00003.au</td>\n",
       "      <td>0.234236</td>\n",
       "      <td>1526.647067</td>\n",
       "      <td>1499.532617</td>\n",
       "      <td>2915.974034</td>\n",
       "      <td>0.108952</td>\n",
       "      <td>-326.864836</td>\n",
       "      <td>127.391310</td>\n",
       "      <td>-30.596096</td>\n",
       "      <td>37.468801</td>\n",
       "      <td>...</td>\n",
       "      <td>2.807639</td>\n",
       "      <td>7.252176</td>\n",
       "      <td>3.980639</td>\n",
       "      <td>-2.389035</td>\n",
       "      <td>1.490968</td>\n",
       "      <td>0.583444</td>\n",
       "      <td>-0.610587</td>\n",
       "      <td>2.334469</td>\n",
       "      <td>2.649742</td>\n",
       "      <td>classical</td>\n",
       "    </tr>\n",
       "    <tr>\n",
       "      <th>4</th>\n",
       "      <td>classical.00008.au</td>\n",
       "      <td>0.254774</td>\n",
       "      <td>1516.626219</td>\n",
       "      <td>1629.500705</td>\n",
       "      <td>2973.782018</td>\n",
       "      <td>0.078788</td>\n",
       "      <td>-292.128300</td>\n",
       "      <td>127.769046</td>\n",
       "      <td>-29.901041</td>\n",
       "      <td>37.430188</td>\n",
       "      <td>...</td>\n",
       "      <td>4.709107</td>\n",
       "      <td>0.377206</td>\n",
       "      <td>1.464333</td>\n",
       "      <td>3.393674</td>\n",
       "      <td>6.076538</td>\n",
       "      <td>0.963429</td>\n",
       "      <td>-0.753660</td>\n",
       "      <td>-2.105312</td>\n",
       "      <td>0.755132</td>\n",
       "      <td>classical</td>\n",
       "    </tr>\n",
       "  </tbody>\n",
       "</table>\n",
       "<p>5 rows × 27 columns</p>\n",
       "</div>"
      ],
      "text/plain": [
       "             filename  chroma_stft         rmse  spectral_centroid  \\\n",
       "0  classical.00004.au     0.223171  1705.704611        1646.292971   \n",
       "1  classical.00001.au     0.215064  1360.408354        1441.143831   \n",
       "2  classical.00002.au     0.277865  1490.034810        1599.959102   \n",
       "3  classical.00003.au     0.234236  1526.647067        1499.532617   \n",
       "4  classical.00008.au     0.254774  1516.626219        1629.500705   \n",
       "\n",
       "   spectral_bandwidth   rolloff  zero_crossing_rate       mfcc1      mfcc2  \\\n",
       "0         3175.739130  0.112867         -259.909976  118.939289 -35.611851   \n",
       "1         2387.218898  0.087772         -324.058769  133.610044 -25.031100   \n",
       "2         2784.916493  0.090050         -235.255816  141.128195 -34.666853   \n",
       "3         2915.974034  0.108952         -326.864836  127.391310 -30.596096   \n",
       "4         2973.782018  0.078788         -292.128300  127.769046 -29.901041   \n",
       "\n",
       "       mfcc3  ...    mfcc11    mfcc12    mfcc13    mfcc14    mfcc15    mfcc16  \\\n",
       "0  31.977636  ... -1.196833 -6.347265  2.761452 -2.592574  4.384807 -4.136895   \n",
       "1  24.567555  ...  3.522400  5.041735  1.361834  3.003346 -3.124863 -4.291534   \n",
       "2  30.979235  ...  8.909783 -1.433871  4.281025  1.482141  3.187973 -1.309518   \n",
       "3  37.468801  ...  2.807639  7.252176  3.980639 -2.389035  1.490968  0.583444   \n",
       "4  37.430188  ...  4.709107  0.377206  1.464333  3.393674  6.076538  0.963429   \n",
       "\n",
       "     mfcc17    mfcc18    mfcc19      label  \n",
       "0 -4.779474 -4.772360 -4.608322  classical  \n",
       "1  0.591218  2.871973  0.366271  classical  \n",
       "2  2.929818 -1.661003 -2.896666  classical  \n",
       "3 -0.610587  2.334469  2.649742  classical  \n",
       "4 -0.753660 -2.105312  0.755132  classical  \n",
       "\n",
       "[5 rows x 27 columns]"
      ]
     },
     "execution_count": 23,
     "metadata": {},
     "output_type": "execute_result"
    }
   ],
   "source": [
    "data = pd.read_csv('./dataset/data.csv')\n",
    "data.head()"
   ]
  },
  {
   "cell_type": "code",
   "execution_count": 24,
   "metadata": {},
   "outputs": [],
   "source": [
    "# Dropping unneccesary columns\n",
    "data = data.drop(['filename'],axis=1)"
   ]
  },
  {
   "cell_type": "code",
   "execution_count": 28,
   "metadata": {},
   "outputs": [],
   "source": [
    "genre_list = data.iloc[:, -1]\n",
    "encoder = LabelEncoder()\n",
    "y = encoder.fit_transform(genre_list)"
   ]
  },
  {
   "cell_type": "markdown",
   "metadata": {},
   "source": [
    "Scaling feature columns"
   ]
  },
  {
   "cell_type": "code",
   "execution_count": 29,
   "metadata": {
    "scrolled": true
   },
   "outputs": [],
   "source": [
    "scaler = StandardScaler()\n",
    "X = scaler.fit_transform(np.array(data.iloc[:, :-2], dtype = float))"
   ]
  },
  {
   "cell_type": "markdown",
   "metadata": {},
   "source": [
    "# Dividing into train/test"
   ]
  },
  {
   "cell_type": "code",
   "execution_count": 37,
   "metadata": {},
   "outputs": [],
   "source": [
    "X_train, X_test, y_train, y_test = train_test_split(X, y, test_size=0.2)"
   ]
  },
  {
   "cell_type": "code",
   "execution_count": 38,
   "metadata": {},
   "outputs": [
    {
     "data": {
      "text/plain": [
       "(40, 10)"
      ]
     },
     "execution_count": 38,
     "metadata": {},
     "output_type": "execute_result"
    }
   ],
   "source": [
    "len(y_train), len(y_test)"
   ]
  },
  {
   "cell_type": "code",
   "execution_count": 39,
   "metadata": {},
   "outputs": [
    {
     "data": {
      "text/plain": [
       "5"
      ]
     },
     "execution_count": 39,
     "metadata": {},
     "output_type": "execute_result"
    }
   ],
   "source": [
    "len(genres)"
   ]
  },
  {
   "cell_type": "markdown",
   "metadata": {},
   "source": [
    "# Building the network"
   ]
  },
  {
   "cell_type": "code",
   "execution_count": null,
   "metadata": {},
   "outputs": [],
   "source": [
    "from keras import models\n",
    "from keras import layers\n",
    "\n",
    "model = models.Sequential()\n",
    "model.add(layers.Dense(256, activation='relu', input_shape=(X_train.shape[1],)))\n",
    "\n",
    "model.add(layers.Dense(128, activation='relu'))\n",
    "\n",
    "model.add(layers.Dense(64, activation='relu'))\n",
    "\n",
    "# 5 genres\n",
    "model.add(layers.Dense(5, activation='softmax'))"
   ]
  },
  {
   "cell_type": "code",
   "execution_count": null,
   "metadata": {},
   "outputs": [],
   "source": []
  }
 ],
 "metadata": {
  "kernelspec": {
   "display_name": "Python 3",
   "language": "python",
   "name": "python3"
  },
  "language_info": {
   "codemirror_mode": {
    "name": "ipython",
    "version": 3
   },
   "file_extension": ".py",
   "mimetype": "text/x-python",
   "name": "python",
   "nbconvert_exporter": "python",
   "pygments_lexer": "ipython3",
   "version": "3.7.3"
  }
 },
 "nbformat": 4,
 "nbformat_minor": 2
}
